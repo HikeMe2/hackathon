{
  "nbformat": 4,
  "nbformat_minor": 0,
  "metadata": {
    "colab": {
      "name": "preprocessing.ipynb",
      "provenance": []
    },
    "kernelspec": {
      "name": "python3",
      "display_name": "Python 3"
    },
    "language_info": {
      "name": "python"
    }
  },
  "cells": [
    {
      "cell_type": "markdown",
      "source": [
        "# Partial preprocessing"
      ],
      "metadata": {
        "id": "s0NEDJlBOTIa"
      }
    },
    {
      "cell_type": "code",
      "execution_count": 386,
      "metadata": {
        "colab": {
          "base_uri": "https://localhost:8080/"
        },
        "id": "I0NvQhouNZ9h",
        "outputId": "e5de8398-2371-4657-ecd3-e0bf02eb2926"
      },
      "outputs": [
        {
          "output_type": "stream",
          "name": "stdout",
          "text": [
            "Drive already mounted at /content/drive; to attempt to forcibly remount, call drive.mount(\"/content/drive\", force_remount=True).\n"
          ]
        }
      ],
      "source": [
        "from google.colab import drive\n",
        "drive.mount('/content/drive')"
      ]
    },
    {
      "cell_type": "code",
      "source": [
        "import matplotlib.pyplot as plt\n",
        "import seaborn as sns\n",
        "import pandas as pd\n",
        "import numpy as np\n"
      ],
      "metadata": {
        "id": "d4HoyixUOHnM"
      },
      "execution_count": 387,
      "outputs": []
    },
    {
      "cell_type": "code",
      "source": [
        "# df = pd.read_csv(\"drive/MyDrive/gpx-tracks-from-hikr.org.csv\")\n",
        "df = pd.read_csv(\"drive/MyDrive/country_continent.csv\")"
      ],
      "metadata": {
        "id": "TkdP4J1vOdJU"
      },
      "execution_count": 388,
      "outputs": []
    },
    {
      "cell_type": "code",
      "source": [
        "df.head()"
      ],
      "metadata": {
        "colab": {
          "base_uri": "https://localhost:8080/",
          "height": 547
        },
        "id": "rs7TjSJ8p6tF",
        "outputId": "6950e05f-1275-45b3-992a-eaf251e38bd5"
      },
      "execution_count": 389,
      "outputs": [
        {
          "output_type": "execute_result",
          "data": {
            "text/plain": [
              "   Unnamed: 0                       _id     length_3d       user  \\\n",
              "0           0  5afb229e8f80884aaad9c6ea  10832.953016  Bergfritz   \n",
              "1           1  5afb229e8f80884aaad9c6eb  12259.376315  Bergfritz   \n",
              "2           2  5afb229e8f80884aaad9c6ec  22980.168081       igor   \n",
              "3           3  5afb229e8f80884aaad9c6ed  24903.503470    rkroebl   \n",
              "4           4  5afb229e8f80884aaad9c6ee  19581.273819    rkroebl   \n",
              "\n",
              "            start_time  max_elevation  \\\n",
              "0  2018-05-11 07:37:40        1934.47   \n",
              "1  2018-05-12 07:25:08        2186.21   \n",
              "2  2018-05-11 06:29:38        2265.00   \n",
              "3  2018-05-10 07:06:22         962.42   \n",
              "4  2018-05-11 05:44:58         697.57   \n",
              "\n",
              "                                              bounds    uphill  moving_time  \\\n",
              "0  {'min': {'type': 'Point', 'coordinates': [13.2...   612.880      12155.0   \n",
              "1  {'min': {'type': 'Point', 'coordinates': [13.1...   614.753      13876.0   \n",
              "2  {'min': {'type': 'Point', 'coordinates': [8.99...  2255.976      28971.0   \n",
              "3  {'min': {'type': 'Point', 'coordinates': [8.43...   882.312      26726.0   \n",
              "4  {'min': {'type': 'Point', 'coordinates': [8.61...   310.662      18197.0   \n",
              "\n",
              "              end_time  max_speed  \\\n",
              "0  2018-05-11 11:38:23   1.595493   \n",
              "1  2018-05-12 12:08:28   1.394320   \n",
              "2  2018-05-11 15:32:43   1.503002   \n",
              "3  2018-05-10 16:15:18   1.516689   \n",
              "4  2018-05-11 12:54:25   1.542405   \n",
              "\n",
              "                                                 gpx  \\\n",
              "0  <?xml version=\"1.0\" encoding=\"UTF-8\"?>\\n<gpx x...   \n",
              "1  <?xml version=\"1.0\" encoding=\"UTF-8\"?>\\n<gpx x...   \n",
              "2  <?xml version=\"1.0\" encoding=\"UTF-8\"?>\\n<gpx x...   \n",
              "3  <?xml version=\"1.0\" encoding=\"UTF-8\"?>\\n<gpx x...   \n",
              "4  <?xml version=\"1.0\" encoding=\"UTF-8\"?>\\n<gpx x...   \n",
              "\n",
              "                     difficulty  min_elevation  \\\n",
              "0            T2 - Mountain hike        1322.96   \n",
              "1  T3 - Difficult Mountain hike        1266.40   \n",
              "2  T3 - Difficult Mountain hike         176.54   \n",
              "3            T2 - Mountain hike         388.51   \n",
              "4            T2 - Mountain hike         438.50   \n",
              "\n",
              "                                        url  downhill  \\\n",
              "0  http://www.hikr.org/tour/post131855.html   609.670   \n",
              "1  http://www.hikr.org/tour/post131856.html  1193.733   \n",
              "2  http://www.hikr.org/tour/post131839.html  2177.626   \n",
              "3  http://www.hikr.org/tour/post131840.html   901.052   \n",
              "4  http://www.hikr.org/tour/post131845.html   305.372   \n",
              "\n",
              "                                                name     length_2d  \\\n",
              "0                               Remsteinkopf, 1945 m  10832.953016   \n",
              "1                               Schuhflicker, 2214 m  12259.376315   \n",
              "2       Cima d'erbea Est quota 2164m e  Gaggio 2267m  22980.168081   \n",
              "3               Waldstätterweg: Alpnachstad - Buochs  24903.503470   \n",
              "4  Waldstätterweg: Buochs - Beckenried und Gersau...  19581.273819   \n",
              "\n",
              "       country continent  \n",
              "0      Austria    Europe  \n",
              "1      Austria    Europe  \n",
              "2  Switzerland    Europe  \n",
              "3  Switzerland    Europe  \n",
              "4  Switzerland    Europe  "
            ],
            "text/html": [
              "\n",
              "  <div id=\"df-886f6cb7-23ac-421e-9bb8-d7dddcd68a8c\">\n",
              "    <div class=\"colab-df-container\">\n",
              "      <div>\n",
              "<style scoped>\n",
              "    .dataframe tbody tr th:only-of-type {\n",
              "        vertical-align: middle;\n",
              "    }\n",
              "\n",
              "    .dataframe tbody tr th {\n",
              "        vertical-align: top;\n",
              "    }\n",
              "\n",
              "    .dataframe thead th {\n",
              "        text-align: right;\n",
              "    }\n",
              "</style>\n",
              "<table border=\"1\" class=\"dataframe\">\n",
              "  <thead>\n",
              "    <tr style=\"text-align: right;\">\n",
              "      <th></th>\n",
              "      <th>Unnamed: 0</th>\n",
              "      <th>_id</th>\n",
              "      <th>length_3d</th>\n",
              "      <th>user</th>\n",
              "      <th>start_time</th>\n",
              "      <th>max_elevation</th>\n",
              "      <th>bounds</th>\n",
              "      <th>uphill</th>\n",
              "      <th>moving_time</th>\n",
              "      <th>end_time</th>\n",
              "      <th>max_speed</th>\n",
              "      <th>gpx</th>\n",
              "      <th>difficulty</th>\n",
              "      <th>min_elevation</th>\n",
              "      <th>url</th>\n",
              "      <th>downhill</th>\n",
              "      <th>name</th>\n",
              "      <th>length_2d</th>\n",
              "      <th>country</th>\n",
              "      <th>continent</th>\n",
              "    </tr>\n",
              "  </thead>\n",
              "  <tbody>\n",
              "    <tr>\n",
              "      <th>0</th>\n",
              "      <td>0</td>\n",
              "      <td>5afb229e8f80884aaad9c6ea</td>\n",
              "      <td>10832.953016</td>\n",
              "      <td>Bergfritz</td>\n",
              "      <td>2018-05-11 07:37:40</td>\n",
              "      <td>1934.47</td>\n",
              "      <td>{'min': {'type': 'Point', 'coordinates': [13.2...</td>\n",
              "      <td>612.880</td>\n",
              "      <td>12155.0</td>\n",
              "      <td>2018-05-11 11:38:23</td>\n",
              "      <td>1.595493</td>\n",
              "      <td>&lt;?xml version=\"1.0\" encoding=\"UTF-8\"?&gt;\\n&lt;gpx x...</td>\n",
              "      <td>T2 - Mountain hike</td>\n",
              "      <td>1322.96</td>\n",
              "      <td>http://www.hikr.org/tour/post131855.html</td>\n",
              "      <td>609.670</td>\n",
              "      <td>Remsteinkopf, 1945 m</td>\n",
              "      <td>10832.953016</td>\n",
              "      <td>Austria</td>\n",
              "      <td>Europe</td>\n",
              "    </tr>\n",
              "    <tr>\n",
              "      <th>1</th>\n",
              "      <td>1</td>\n",
              "      <td>5afb229e8f80884aaad9c6eb</td>\n",
              "      <td>12259.376315</td>\n",
              "      <td>Bergfritz</td>\n",
              "      <td>2018-05-12 07:25:08</td>\n",
              "      <td>2186.21</td>\n",
              "      <td>{'min': {'type': 'Point', 'coordinates': [13.1...</td>\n",
              "      <td>614.753</td>\n",
              "      <td>13876.0</td>\n",
              "      <td>2018-05-12 12:08:28</td>\n",
              "      <td>1.394320</td>\n",
              "      <td>&lt;?xml version=\"1.0\" encoding=\"UTF-8\"?&gt;\\n&lt;gpx x...</td>\n",
              "      <td>T3 - Difficult Mountain hike</td>\n",
              "      <td>1266.40</td>\n",
              "      <td>http://www.hikr.org/tour/post131856.html</td>\n",
              "      <td>1193.733</td>\n",
              "      <td>Schuhflicker, 2214 m</td>\n",
              "      <td>12259.376315</td>\n",
              "      <td>Austria</td>\n",
              "      <td>Europe</td>\n",
              "    </tr>\n",
              "    <tr>\n",
              "      <th>2</th>\n",
              "      <td>2</td>\n",
              "      <td>5afb229e8f80884aaad9c6ec</td>\n",
              "      <td>22980.168081</td>\n",
              "      <td>igor</td>\n",
              "      <td>2018-05-11 06:29:38</td>\n",
              "      <td>2265.00</td>\n",
              "      <td>{'min': {'type': 'Point', 'coordinates': [8.99...</td>\n",
              "      <td>2255.976</td>\n",
              "      <td>28971.0</td>\n",
              "      <td>2018-05-11 15:32:43</td>\n",
              "      <td>1.503002</td>\n",
              "      <td>&lt;?xml version=\"1.0\" encoding=\"UTF-8\"?&gt;\\n&lt;gpx x...</td>\n",
              "      <td>T3 - Difficult Mountain hike</td>\n",
              "      <td>176.54</td>\n",
              "      <td>http://www.hikr.org/tour/post131839.html</td>\n",
              "      <td>2177.626</td>\n",
              "      <td>Cima d'erbea Est quota 2164m e  Gaggio 2267m</td>\n",
              "      <td>22980.168081</td>\n",
              "      <td>Switzerland</td>\n",
              "      <td>Europe</td>\n",
              "    </tr>\n",
              "    <tr>\n",
              "      <th>3</th>\n",
              "      <td>3</td>\n",
              "      <td>5afb229e8f80884aaad9c6ed</td>\n",
              "      <td>24903.503470</td>\n",
              "      <td>rkroebl</td>\n",
              "      <td>2018-05-10 07:06:22</td>\n",
              "      <td>962.42</td>\n",
              "      <td>{'min': {'type': 'Point', 'coordinates': [8.43...</td>\n",
              "      <td>882.312</td>\n",
              "      <td>26726.0</td>\n",
              "      <td>2018-05-10 16:15:18</td>\n",
              "      <td>1.516689</td>\n",
              "      <td>&lt;?xml version=\"1.0\" encoding=\"UTF-8\"?&gt;\\n&lt;gpx x...</td>\n",
              "      <td>T2 - Mountain hike</td>\n",
              "      <td>388.51</td>\n",
              "      <td>http://www.hikr.org/tour/post131840.html</td>\n",
              "      <td>901.052</td>\n",
              "      <td>Waldstätterweg: Alpnachstad - Buochs</td>\n",
              "      <td>24903.503470</td>\n",
              "      <td>Switzerland</td>\n",
              "      <td>Europe</td>\n",
              "    </tr>\n",
              "    <tr>\n",
              "      <th>4</th>\n",
              "      <td>4</td>\n",
              "      <td>5afb229e8f80884aaad9c6ee</td>\n",
              "      <td>19581.273819</td>\n",
              "      <td>rkroebl</td>\n",
              "      <td>2018-05-11 05:44:58</td>\n",
              "      <td>697.57</td>\n",
              "      <td>{'min': {'type': 'Point', 'coordinates': [8.61...</td>\n",
              "      <td>310.662</td>\n",
              "      <td>18197.0</td>\n",
              "      <td>2018-05-11 12:54:25</td>\n",
              "      <td>1.542405</td>\n",
              "      <td>&lt;?xml version=\"1.0\" encoding=\"UTF-8\"?&gt;\\n&lt;gpx x...</td>\n",
              "      <td>T2 - Mountain hike</td>\n",
              "      <td>438.50</td>\n",
              "      <td>http://www.hikr.org/tour/post131845.html</td>\n",
              "      <td>305.372</td>\n",
              "      <td>Waldstätterweg: Buochs - Beckenried und Gersau...</td>\n",
              "      <td>19581.273819</td>\n",
              "      <td>Switzerland</td>\n",
              "      <td>Europe</td>\n",
              "    </tr>\n",
              "  </tbody>\n",
              "</table>\n",
              "</div>\n",
              "      <button class=\"colab-df-convert\" onclick=\"convertToInteractive('df-886f6cb7-23ac-421e-9bb8-d7dddcd68a8c')\"\n",
              "              title=\"Convert this dataframe to an interactive table.\"\n",
              "              style=\"display:none;\">\n",
              "        \n",
              "  <svg xmlns=\"http://www.w3.org/2000/svg\" height=\"24px\"viewBox=\"0 0 24 24\"\n",
              "       width=\"24px\">\n",
              "    <path d=\"M0 0h24v24H0V0z\" fill=\"none\"/>\n",
              "    <path d=\"M18.56 5.44l.94 2.06.94-2.06 2.06-.94-2.06-.94-.94-2.06-.94 2.06-2.06.94zm-11 1L8.5 8.5l.94-2.06 2.06-.94-2.06-.94L8.5 2.5l-.94 2.06-2.06.94zm10 10l.94 2.06.94-2.06 2.06-.94-2.06-.94-.94-2.06-.94 2.06-2.06.94z\"/><path d=\"M17.41 7.96l-1.37-1.37c-.4-.4-.92-.59-1.43-.59-.52 0-1.04.2-1.43.59L10.3 9.45l-7.72 7.72c-.78.78-.78 2.05 0 2.83L4 21.41c.39.39.9.59 1.41.59.51 0 1.02-.2 1.41-.59l7.78-7.78 2.81-2.81c.8-.78.8-2.07 0-2.86zM5.41 20L4 18.59l7.72-7.72 1.47 1.35L5.41 20z\"/>\n",
              "  </svg>\n",
              "      </button>\n",
              "      \n",
              "  <style>\n",
              "    .colab-df-container {\n",
              "      display:flex;\n",
              "      flex-wrap:wrap;\n",
              "      gap: 12px;\n",
              "    }\n",
              "\n",
              "    .colab-df-convert {\n",
              "      background-color: #E8F0FE;\n",
              "      border: none;\n",
              "      border-radius: 50%;\n",
              "      cursor: pointer;\n",
              "      display: none;\n",
              "      fill: #1967D2;\n",
              "      height: 32px;\n",
              "      padding: 0 0 0 0;\n",
              "      width: 32px;\n",
              "    }\n",
              "\n",
              "    .colab-df-convert:hover {\n",
              "      background-color: #E2EBFA;\n",
              "      box-shadow: 0px 1px 2px rgba(60, 64, 67, 0.3), 0px 1px 3px 1px rgba(60, 64, 67, 0.15);\n",
              "      fill: #174EA6;\n",
              "    }\n",
              "\n",
              "    [theme=dark] .colab-df-convert {\n",
              "      background-color: #3B4455;\n",
              "      fill: #D2E3FC;\n",
              "    }\n",
              "\n",
              "    [theme=dark] .colab-df-convert:hover {\n",
              "      background-color: #434B5C;\n",
              "      box-shadow: 0px 1px 3px 1px rgba(0, 0, 0, 0.15);\n",
              "      filter: drop-shadow(0px 1px 2px rgba(0, 0, 0, 0.3));\n",
              "      fill: #FFFFFF;\n",
              "    }\n",
              "  </style>\n",
              "\n",
              "      <script>\n",
              "        const buttonEl =\n",
              "          document.querySelector('#df-886f6cb7-23ac-421e-9bb8-d7dddcd68a8c button.colab-df-convert');\n",
              "        buttonEl.style.display =\n",
              "          google.colab.kernel.accessAllowed ? 'block' : 'none';\n",
              "\n",
              "        async function convertToInteractive(key) {\n",
              "          const element = document.querySelector('#df-886f6cb7-23ac-421e-9bb8-d7dddcd68a8c');\n",
              "          const dataTable =\n",
              "            await google.colab.kernel.invokeFunction('convertToInteractive',\n",
              "                                                     [key], {});\n",
              "          if (!dataTable) return;\n",
              "\n",
              "          const docLinkHtml = 'Like what you see? Visit the ' +\n",
              "            '<a target=\"_blank\" href=https://colab.research.google.com/notebooks/data_table.ipynb>data table notebook</a>'\n",
              "            + ' to learn more about interactive tables.';\n",
              "          element.innerHTML = '';\n",
              "          dataTable['output_type'] = 'display_data';\n",
              "          await google.colab.output.renderOutput(dataTable, element);\n",
              "          const docLink = document.createElement('div');\n",
              "          docLink.innerHTML = docLinkHtml;\n",
              "          element.appendChild(docLink);\n",
              "        }\n",
              "      </script>\n",
              "    </div>\n",
              "  </div>\n",
              "  "
            ]
          },
          "metadata": {},
          "execution_count": 389
        }
      ]
    },
    {
      "cell_type": "markdown",
      "source": [
        "## Time"
      ],
      "metadata": {
        "id": "r4hCKUOBPEwF"
      }
    },
    {
      "cell_type": "code",
      "source": [
        "df.loc[df['moving_time'] == 0, 'moving_time'] = df['moving_time'].mean()\n",
        "df['moving_time'] = df['moving_time'] / (3600*24)"
      ],
      "metadata": {
        "id": "Pwnlu7tJOEXr"
      },
      "execution_count": 390,
      "outputs": []
    },
    {
      "cell_type": "code",
      "source": [
        "df[['length_3d', 'moving_time']].head()"
      ],
      "metadata": {
        "colab": {
          "base_uri": "https://localhost:8080/",
          "height": 0
        },
        "id": "Oyv_4v4mV8fH",
        "outputId": "464674ef-f058-44c9-f5e6-7140e48c74d7"
      },
      "execution_count": 391,
      "outputs": [
        {
          "output_type": "execute_result",
          "data": {
            "text/plain": [
              "      length_3d  moving_time\n",
              "0  10832.953016     0.140683\n",
              "1  12259.376315     0.160602\n",
              "2  22980.168081     0.335313\n",
              "3  24903.503470     0.309329\n",
              "4  19581.273819     0.210613"
            ],
            "text/html": [
              "\n",
              "  <div id=\"df-16940670-1f52-4a1a-a1fa-e648e10f02c8\">\n",
              "    <div class=\"colab-df-container\">\n",
              "      <div>\n",
              "<style scoped>\n",
              "    .dataframe tbody tr th:only-of-type {\n",
              "        vertical-align: middle;\n",
              "    }\n",
              "\n",
              "    .dataframe tbody tr th {\n",
              "        vertical-align: top;\n",
              "    }\n",
              "\n",
              "    .dataframe thead th {\n",
              "        text-align: right;\n",
              "    }\n",
              "</style>\n",
              "<table border=\"1\" class=\"dataframe\">\n",
              "  <thead>\n",
              "    <tr style=\"text-align: right;\">\n",
              "      <th></th>\n",
              "      <th>length_3d</th>\n",
              "      <th>moving_time</th>\n",
              "    </tr>\n",
              "  </thead>\n",
              "  <tbody>\n",
              "    <tr>\n",
              "      <th>0</th>\n",
              "      <td>10832.953016</td>\n",
              "      <td>0.140683</td>\n",
              "    </tr>\n",
              "    <tr>\n",
              "      <th>1</th>\n",
              "      <td>12259.376315</td>\n",
              "      <td>0.160602</td>\n",
              "    </tr>\n",
              "    <tr>\n",
              "      <th>2</th>\n",
              "      <td>22980.168081</td>\n",
              "      <td>0.335313</td>\n",
              "    </tr>\n",
              "    <tr>\n",
              "      <th>3</th>\n",
              "      <td>24903.503470</td>\n",
              "      <td>0.309329</td>\n",
              "    </tr>\n",
              "    <tr>\n",
              "      <th>4</th>\n",
              "      <td>19581.273819</td>\n",
              "      <td>0.210613</td>\n",
              "    </tr>\n",
              "  </tbody>\n",
              "</table>\n",
              "</div>\n",
              "      <button class=\"colab-df-convert\" onclick=\"convertToInteractive('df-16940670-1f52-4a1a-a1fa-e648e10f02c8')\"\n",
              "              title=\"Convert this dataframe to an interactive table.\"\n",
              "              style=\"display:none;\">\n",
              "        \n",
              "  <svg xmlns=\"http://www.w3.org/2000/svg\" height=\"24px\"viewBox=\"0 0 24 24\"\n",
              "       width=\"24px\">\n",
              "    <path d=\"M0 0h24v24H0V0z\" fill=\"none\"/>\n",
              "    <path d=\"M18.56 5.44l.94 2.06.94-2.06 2.06-.94-2.06-.94-.94-2.06-.94 2.06-2.06.94zm-11 1L8.5 8.5l.94-2.06 2.06-.94-2.06-.94L8.5 2.5l-.94 2.06-2.06.94zm10 10l.94 2.06.94-2.06 2.06-.94-2.06-.94-.94-2.06-.94 2.06-2.06.94z\"/><path d=\"M17.41 7.96l-1.37-1.37c-.4-.4-.92-.59-1.43-.59-.52 0-1.04.2-1.43.59L10.3 9.45l-7.72 7.72c-.78.78-.78 2.05 0 2.83L4 21.41c.39.39.9.59 1.41.59.51 0 1.02-.2 1.41-.59l7.78-7.78 2.81-2.81c.8-.78.8-2.07 0-2.86zM5.41 20L4 18.59l7.72-7.72 1.47 1.35L5.41 20z\"/>\n",
              "  </svg>\n",
              "      </button>\n",
              "      \n",
              "  <style>\n",
              "    .colab-df-container {\n",
              "      display:flex;\n",
              "      flex-wrap:wrap;\n",
              "      gap: 12px;\n",
              "    }\n",
              "\n",
              "    .colab-df-convert {\n",
              "      background-color: #E8F0FE;\n",
              "      border: none;\n",
              "      border-radius: 50%;\n",
              "      cursor: pointer;\n",
              "      display: none;\n",
              "      fill: #1967D2;\n",
              "      height: 32px;\n",
              "      padding: 0 0 0 0;\n",
              "      width: 32px;\n",
              "    }\n",
              "\n",
              "    .colab-df-convert:hover {\n",
              "      background-color: #E2EBFA;\n",
              "      box-shadow: 0px 1px 2px rgba(60, 64, 67, 0.3), 0px 1px 3px 1px rgba(60, 64, 67, 0.15);\n",
              "      fill: #174EA6;\n",
              "    }\n",
              "\n",
              "    [theme=dark] .colab-df-convert {\n",
              "      background-color: #3B4455;\n",
              "      fill: #D2E3FC;\n",
              "    }\n",
              "\n",
              "    [theme=dark] .colab-df-convert:hover {\n",
              "      background-color: #434B5C;\n",
              "      box-shadow: 0px 1px 3px 1px rgba(0, 0, 0, 0.15);\n",
              "      filter: drop-shadow(0px 1px 2px rgba(0, 0, 0, 0.3));\n",
              "      fill: #FFFFFF;\n",
              "    }\n",
              "  </style>\n",
              "\n",
              "      <script>\n",
              "        const buttonEl =\n",
              "          document.querySelector('#df-16940670-1f52-4a1a-a1fa-e648e10f02c8 button.colab-df-convert');\n",
              "        buttonEl.style.display =\n",
              "          google.colab.kernel.accessAllowed ? 'block' : 'none';\n",
              "\n",
              "        async function convertToInteractive(key) {\n",
              "          const element = document.querySelector('#df-16940670-1f52-4a1a-a1fa-e648e10f02c8');\n",
              "          const dataTable =\n",
              "            await google.colab.kernel.invokeFunction('convertToInteractive',\n",
              "                                                     [key], {});\n",
              "          if (!dataTable) return;\n",
              "\n",
              "          const docLinkHtml = 'Like what you see? Visit the ' +\n",
              "            '<a target=\"_blank\" href=https://colab.research.google.com/notebooks/data_table.ipynb>data table notebook</a>'\n",
              "            + ' to learn more about interactive tables.';\n",
              "          element.innerHTML = '';\n",
              "          dataTable['output_type'] = 'display_data';\n",
              "          await google.colab.output.renderOutput(dataTable, element);\n",
              "          const docLink = document.createElement('div');\n",
              "          docLink.innerHTML = docLinkHtml;\n",
              "          element.appendChild(docLink);\n",
              "        }\n",
              "      </script>\n",
              "    </div>\n",
              "  </div>\n",
              "  "
            ]
          },
          "metadata": {},
          "execution_count": 391
        }
      ]
    },
    {
      "cell_type": "markdown",
      "source": [
        "moving time is in days"
      ],
      "metadata": {
        "id": "70Ckzl5oU2Gl"
      }
    },
    {
      "cell_type": "code",
      "source": [
        "df.moving_time"
      ],
      "metadata": {
        "colab": {
          "base_uri": "https://localhost:8080/"
        },
        "id": "C8hoN2eSeDTu",
        "outputId": "e3360289-3c78-4605-9df7-2d8e7c7e263a"
      },
      "execution_count": 392,
      "outputs": [
        {
          "output_type": "execute_result",
          "data": {
            "text/plain": [
              "0        0.140683\n",
              "1        0.160602\n",
              "2        0.335313\n",
              "3        0.309329\n",
              "4        0.210613\n",
              "           ...   \n",
              "12136    0.049838\n",
              "12137    0.169676\n",
              "12138    0.095359\n",
              "12139    0.212431\n",
              "12140    0.112095\n",
              "Name: moving_time, Length: 12141, dtype: float64"
            ]
          },
          "metadata": {},
          "execution_count": 392
        }
      ]
    },
    {
      "cell_type": "markdown",
      "source": [
        "## Length/Uphill/2D/3D?"
      ],
      "metadata": {
        "id": "SBtQIUXWPV9_"
      }
    },
    {
      "cell_type": "markdown",
      "source": [
        "## Hiking environment"
      ],
      "metadata": {
        "id": "mUD10AVSPb3X"
      }
    },
    {
      "cell_type": "code",
      "source": [
        "alpin = ['T4- - High-level Alpine hike',\n",
        " 'T4 - High-level Alpine hike',\n",
        " 'T5- - Challenging High-level Alpine hike',\n",
        " 'T5+ - Challenging High-level Alpine hike',\n",
        " 'T4+ - High-level Alpine hike',\n",
        " 'T5 - Challenging High-level Alpine hike',\n",
        " 'T6 - Difficult High-level Alpine hike',\n",
        " 'T6- - Difficult High-level Alpine hike',\n",
        " 'T6+ - Difficult High-level Alpine hike']"
      ],
      "metadata": {
        "id": "It38zirtPeri"
      },
      "execution_count": 393,
      "outputs": []
    },
    {
      "cell_type": "code",
      "source": [
        "df['Hiking Environment'] = 0"
      ],
      "metadata": {
        "id": "1QBGg8ROYvus"
      },
      "execution_count": 394,
      "outputs": []
    },
    {
      "cell_type": "code",
      "source": [
        "df.loc[df['difficulty'] == 'T1 - Valley hike', 'Hiking Environment'] = 'Valley'\n",
        "df.loc[df['difficulty'] == 'T2 - Mountain hike', 'Hiking Environment'] = 'Mountain'\n",
        "df.loc[df['difficulty'] == 'T3 - Difficult Mountain hike', 'Hiking Environment'] = 'Mountain'\n",
        "df.loc[df['difficulty'] == 'T3+ - Difficult Mountain hike', 'Hiking Environment'] = 'Mountain'\n",
        "df.loc[df['difficulty'].isin(alpin), 'Hiking Environment'] = 'Alpine'"
      ],
      "metadata": {
        "id": "ixH-hD6tYyGg"
      },
      "execution_count": 395,
      "outputs": []
    },
    {
      "cell_type": "code",
      "source": [
        "df"
      ],
      "metadata": {
        "colab": {
          "base_uri": "https://localhost:8080/",
          "height": 0
        },
        "id": "aWQjl9Fsma6J",
        "outputId": "ed21498d-1956-4872-b40e-859ba3e7070b"
      },
      "execution_count": 396,
      "outputs": [
        {
          "output_type": "execute_result",
          "data": {
            "text/plain": [
              "       Unnamed: 0                       _id     length_3d            user  \\\n",
              "0               0  5afb229e8f80884aaad9c6ea  10832.953016       Bergfritz   \n",
              "1               1  5afb229e8f80884aaad9c6eb  12259.376315       Bergfritz   \n",
              "2               2  5afb229e8f80884aaad9c6ec  22980.168081            igor   \n",
              "3               3  5afb229e8f80884aaad9c6ed  24903.503470         rkroebl   \n",
              "4               4  5afb229e8f80884aaad9c6ee  19581.273819         rkroebl   \n",
              "...           ...                       ...           ...             ...   \n",
              "12136       12136  5afb26108f80884aaad9f652   3882.088056         guenter   \n",
              "12137       12137  5afb26108f80884aaad9f653  13144.015870       Bergfritz   \n",
              "12138       12138  5afb26108f80884aaad9f654   8865.050380  mountainrescue   \n",
              "12139       12139  5afb26108f80884aaad9f655  17047.654835            Curi   \n",
              "12140       12140  5afb26108f80884aaad9f656   7208.130271            gbal   \n",
              "\n",
              "                start_time  max_elevation  \\\n",
              "0      2018-05-11 07:37:40    1934.470000   \n",
              "1      2018-05-12 07:25:08    2186.210000   \n",
              "2      2018-05-11 06:29:38    2265.000000   \n",
              "3      2018-05-10 07:06:22     962.420000   \n",
              "4      2018-05-11 05:44:58     697.570000   \n",
              "...                    ...            ...   \n",
              "12136  2013-09-14 10:33:16    1603.135742   \n",
              "12137  2013-09-14 05:29:24    1664.660000   \n",
              "12138  2013-09-15 06:43:39    1658.300000   \n",
              "12139  2013-09-07 08:19:07     646.620000   \n",
              "12140  2013-09-13 06:24:13    2903.800000   \n",
              "\n",
              "                                                  bounds       uphill  \\\n",
              "0      {'min': {'type': 'Point', 'coordinates': [13.2...   612.880000   \n",
              "1      {'min': {'type': 'Point', 'coordinates': [13.1...   614.753000   \n",
              "2      {'min': {'type': 'Point', 'coordinates': [8.99...  2255.976000   \n",
              "3      {'min': {'type': 'Point', 'coordinates': [8.43...   882.312000   \n",
              "4      {'min': {'type': 'Point', 'coordinates': [8.61...   310.662000   \n",
              "...                                                  ...          ...   \n",
              "12136  {'min': {'type': 'Point', 'coordinates': [15.5...   672.730664   \n",
              "12137  {'min': {'type': 'Point', 'coordinates': [15.2...   928.770000   \n",
              "12138  {'min': {'type': 'Point', 'coordinates': [15.2...   821.240000   \n",
              "12139  {'min': {'type': 'Point', 'coordinates': [11.6...   307.855000   \n",
              "12140  {'min': {'type': 'Point', 'coordinates': [9.11...  1276.683000   \n",
              "\n",
              "       moving_time             end_time  ...  \\\n",
              "0         0.140683  2018-05-11 11:38:23  ...   \n",
              "1         0.160602  2018-05-12 12:08:28  ...   \n",
              "2         0.335313  2018-05-11 15:32:43  ...   \n",
              "3         0.309329  2018-05-10 16:15:18  ...   \n",
              "4         0.210613  2018-05-11 12:54:25  ...   \n",
              "...            ...                  ...  ...   \n",
              "12136     0.049838  2013-09-14 12:53:09  ...   \n",
              "12137     0.169676  2013-09-14 09:57:36  ...   \n",
              "12138     0.095359  2013-09-15 09:21:43  ...   \n",
              "12139     0.212431  2013-09-07 15:11:42  ...   \n",
              "12140     0.112095  2013-09-13 14:05:42  ...   \n",
              "\n",
              "                                                     gpx  \\\n",
              "0      <?xml version=\"1.0\" encoding=\"UTF-8\"?>\\n<gpx x...   \n",
              "1      <?xml version=\"1.0\" encoding=\"UTF-8\"?>\\n<gpx x...   \n",
              "2      <?xml version=\"1.0\" encoding=\"UTF-8\"?>\\n<gpx x...   \n",
              "3      <?xml version=\"1.0\" encoding=\"UTF-8\"?>\\n<gpx x...   \n",
              "4      <?xml version=\"1.0\" encoding=\"UTF-8\"?>\\n<gpx x...   \n",
              "...                                                  ...   \n",
              "12136  <?xml version=\"1.0\" encoding=\"UTF-8\"?>\\n<gpx x...   \n",
              "12137  <?xml version=\"1.0\" encoding=\"UTF-8\"?>\\n<gpx x...   \n",
              "12138  <?xml version=\"1.0\" encoding=\"UTF-8\"?>\\n<gpx x...   \n",
              "12139  <?xml version=\"1.0\" encoding=\"UTF-8\"?>\\n<gpx x...   \n",
              "12140  <?xml version=\"1.0\" encoding=\"UTF-8\"?>\\n<gpx x...   \n",
              "\n",
              "                                  difficulty min_elevation  \\\n",
              "0                         T2 - Mountain hike   1322.960000   \n",
              "1               T3 - Difficult Mountain hike   1266.400000   \n",
              "2               T3 - Difficult Mountain hike    176.540000   \n",
              "3                         T2 - Mountain hike    388.510000   \n",
              "4                         T2 - Mountain hike    438.500000   \n",
              "...                                      ...           ...   \n",
              "12136           T3 - Difficult Mountain hike    936.461426   \n",
              "12137                     T2 - Mountain hike    826.870000   \n",
              "12138                       T1 - Valley hike    882.600000   \n",
              "12139                       T1 - Valley hike    425.040000   \n",
              "12140  T6 - Difficult High-level Alpine hike   1616.590000   \n",
              "\n",
              "                                            url     downhill  \\\n",
              "0      http://www.hikr.org/tour/post131855.html   609.670000   \n",
              "1      http://www.hikr.org/tour/post131856.html  1193.733000   \n",
              "2      http://www.hikr.org/tour/post131839.html  2177.626000   \n",
              "3      http://www.hikr.org/tour/post131840.html   901.052000   \n",
              "4      http://www.hikr.org/tour/post131845.html   305.372000   \n",
              "...                                         ...          ...   \n",
              "12136   http://www.hikr.org/tour/post70727.html     7.498242   \n",
              "12137   http://www.hikr.org/tour/post70731.html   925.880000   \n",
              "12138   http://www.hikr.org/tour/post70744.html   839.040000   \n",
              "12139   http://www.hikr.org/tour/post70500.html   289.595000   \n",
              "12140   http://www.hikr.org/tour/post70681.html  1255.533000   \n",
              "\n",
              "                                                    name     length_2d  \\\n",
              "0                                   Remsteinkopf, 1945 m  10832.953016   \n",
              "1                                   Schuhflicker, 2214 m  12259.376315   \n",
              "2           Cima d'erbea Est quota 2164m e  Gaggio 2267m  22980.168081   \n",
              "3                   Waldstätterweg: Alpnachstad - Buochs  24903.503470   \n",
              "4      Waldstätterweg: Buochs - Beckenried und Gersau...  19581.273819   \n",
              "...                                                  ...           ...   \n",
              "12136                                     Hohes Waxenegg   3882.088056   \n",
              "12137                       Mugel 1630 m , Roßeck 1664 m  13144.015870   \n",
              "12138  Man soll sich nie auf die Meteofuzzis verlasse...   8865.050380   \n",
              "12139                       Frankenwald: Der \"Mühlenweg\"  17047.654835   \n",
              "12140            Piz di Strega: due Maghi alla conquista   7208.130271   \n",
              "\n",
              "           country continent Hiking Environment  \n",
              "0          Austria    Europe           Mountain  \n",
              "1          Austria    Europe           Mountain  \n",
              "2      Switzerland    Europe           Mountain  \n",
              "3      Switzerland    Europe           Mountain  \n",
              "4      Switzerland    Europe           Mountain  \n",
              "...            ...       ...                ...  \n",
              "12136      Austria    Europe           Mountain  \n",
              "12137      Austria    Europe           Mountain  \n",
              "12138      Austria    Europe             Valley  \n",
              "12139      Germany    Europe             Valley  \n",
              "12140  Switzerland    Europe             Alpine  \n",
              "\n",
              "[12141 rows x 21 columns]"
            ],
            "text/html": [
              "\n",
              "  <div id=\"df-652cfdc7-83aa-4306-be73-d1b8703f4d28\">\n",
              "    <div class=\"colab-df-container\">\n",
              "      <div>\n",
              "<style scoped>\n",
              "    .dataframe tbody tr th:only-of-type {\n",
              "        vertical-align: middle;\n",
              "    }\n",
              "\n",
              "    .dataframe tbody tr th {\n",
              "        vertical-align: top;\n",
              "    }\n",
              "\n",
              "    .dataframe thead th {\n",
              "        text-align: right;\n",
              "    }\n",
              "</style>\n",
              "<table border=\"1\" class=\"dataframe\">\n",
              "  <thead>\n",
              "    <tr style=\"text-align: right;\">\n",
              "      <th></th>\n",
              "      <th>Unnamed: 0</th>\n",
              "      <th>_id</th>\n",
              "      <th>length_3d</th>\n",
              "      <th>user</th>\n",
              "      <th>start_time</th>\n",
              "      <th>max_elevation</th>\n",
              "      <th>bounds</th>\n",
              "      <th>uphill</th>\n",
              "      <th>moving_time</th>\n",
              "      <th>end_time</th>\n",
              "      <th>...</th>\n",
              "      <th>gpx</th>\n",
              "      <th>difficulty</th>\n",
              "      <th>min_elevation</th>\n",
              "      <th>url</th>\n",
              "      <th>downhill</th>\n",
              "      <th>name</th>\n",
              "      <th>length_2d</th>\n",
              "      <th>country</th>\n",
              "      <th>continent</th>\n",
              "      <th>Hiking Environment</th>\n",
              "    </tr>\n",
              "  </thead>\n",
              "  <tbody>\n",
              "    <tr>\n",
              "      <th>0</th>\n",
              "      <td>0</td>\n",
              "      <td>5afb229e8f80884aaad9c6ea</td>\n",
              "      <td>10832.953016</td>\n",
              "      <td>Bergfritz</td>\n",
              "      <td>2018-05-11 07:37:40</td>\n",
              "      <td>1934.470000</td>\n",
              "      <td>{'min': {'type': 'Point', 'coordinates': [13.2...</td>\n",
              "      <td>612.880000</td>\n",
              "      <td>0.140683</td>\n",
              "      <td>2018-05-11 11:38:23</td>\n",
              "      <td>...</td>\n",
              "      <td>&lt;?xml version=\"1.0\" encoding=\"UTF-8\"?&gt;\\n&lt;gpx x...</td>\n",
              "      <td>T2 - Mountain hike</td>\n",
              "      <td>1322.960000</td>\n",
              "      <td>http://www.hikr.org/tour/post131855.html</td>\n",
              "      <td>609.670000</td>\n",
              "      <td>Remsteinkopf, 1945 m</td>\n",
              "      <td>10832.953016</td>\n",
              "      <td>Austria</td>\n",
              "      <td>Europe</td>\n",
              "      <td>Mountain</td>\n",
              "    </tr>\n",
              "    <tr>\n",
              "      <th>1</th>\n",
              "      <td>1</td>\n",
              "      <td>5afb229e8f80884aaad9c6eb</td>\n",
              "      <td>12259.376315</td>\n",
              "      <td>Bergfritz</td>\n",
              "      <td>2018-05-12 07:25:08</td>\n",
              "      <td>2186.210000</td>\n",
              "      <td>{'min': {'type': 'Point', 'coordinates': [13.1...</td>\n",
              "      <td>614.753000</td>\n",
              "      <td>0.160602</td>\n",
              "      <td>2018-05-12 12:08:28</td>\n",
              "      <td>...</td>\n",
              "      <td>&lt;?xml version=\"1.0\" encoding=\"UTF-8\"?&gt;\\n&lt;gpx x...</td>\n",
              "      <td>T3 - Difficult Mountain hike</td>\n",
              "      <td>1266.400000</td>\n",
              "      <td>http://www.hikr.org/tour/post131856.html</td>\n",
              "      <td>1193.733000</td>\n",
              "      <td>Schuhflicker, 2214 m</td>\n",
              "      <td>12259.376315</td>\n",
              "      <td>Austria</td>\n",
              "      <td>Europe</td>\n",
              "      <td>Mountain</td>\n",
              "    </tr>\n",
              "    <tr>\n",
              "      <th>2</th>\n",
              "      <td>2</td>\n",
              "      <td>5afb229e8f80884aaad9c6ec</td>\n",
              "      <td>22980.168081</td>\n",
              "      <td>igor</td>\n",
              "      <td>2018-05-11 06:29:38</td>\n",
              "      <td>2265.000000</td>\n",
              "      <td>{'min': {'type': 'Point', 'coordinates': [8.99...</td>\n",
              "      <td>2255.976000</td>\n",
              "      <td>0.335313</td>\n",
              "      <td>2018-05-11 15:32:43</td>\n",
              "      <td>...</td>\n",
              "      <td>&lt;?xml version=\"1.0\" encoding=\"UTF-8\"?&gt;\\n&lt;gpx x...</td>\n",
              "      <td>T3 - Difficult Mountain hike</td>\n",
              "      <td>176.540000</td>\n",
              "      <td>http://www.hikr.org/tour/post131839.html</td>\n",
              "      <td>2177.626000</td>\n",
              "      <td>Cima d'erbea Est quota 2164m e  Gaggio 2267m</td>\n",
              "      <td>22980.168081</td>\n",
              "      <td>Switzerland</td>\n",
              "      <td>Europe</td>\n",
              "      <td>Mountain</td>\n",
              "    </tr>\n",
              "    <tr>\n",
              "      <th>3</th>\n",
              "      <td>3</td>\n",
              "      <td>5afb229e8f80884aaad9c6ed</td>\n",
              "      <td>24903.503470</td>\n",
              "      <td>rkroebl</td>\n",
              "      <td>2018-05-10 07:06:22</td>\n",
              "      <td>962.420000</td>\n",
              "      <td>{'min': {'type': 'Point', 'coordinates': [8.43...</td>\n",
              "      <td>882.312000</td>\n",
              "      <td>0.309329</td>\n",
              "      <td>2018-05-10 16:15:18</td>\n",
              "      <td>...</td>\n",
              "      <td>&lt;?xml version=\"1.0\" encoding=\"UTF-8\"?&gt;\\n&lt;gpx x...</td>\n",
              "      <td>T2 - Mountain hike</td>\n",
              "      <td>388.510000</td>\n",
              "      <td>http://www.hikr.org/tour/post131840.html</td>\n",
              "      <td>901.052000</td>\n",
              "      <td>Waldstätterweg: Alpnachstad - Buochs</td>\n",
              "      <td>24903.503470</td>\n",
              "      <td>Switzerland</td>\n",
              "      <td>Europe</td>\n",
              "      <td>Mountain</td>\n",
              "    </tr>\n",
              "    <tr>\n",
              "      <th>4</th>\n",
              "      <td>4</td>\n",
              "      <td>5afb229e8f80884aaad9c6ee</td>\n",
              "      <td>19581.273819</td>\n",
              "      <td>rkroebl</td>\n",
              "      <td>2018-05-11 05:44:58</td>\n",
              "      <td>697.570000</td>\n",
              "      <td>{'min': {'type': 'Point', 'coordinates': [8.61...</td>\n",
              "      <td>310.662000</td>\n",
              "      <td>0.210613</td>\n",
              "      <td>2018-05-11 12:54:25</td>\n",
              "      <td>...</td>\n",
              "      <td>&lt;?xml version=\"1.0\" encoding=\"UTF-8\"?&gt;\\n&lt;gpx x...</td>\n",
              "      <td>T2 - Mountain hike</td>\n",
              "      <td>438.500000</td>\n",
              "      <td>http://www.hikr.org/tour/post131845.html</td>\n",
              "      <td>305.372000</td>\n",
              "      <td>Waldstätterweg: Buochs - Beckenried und Gersau...</td>\n",
              "      <td>19581.273819</td>\n",
              "      <td>Switzerland</td>\n",
              "      <td>Europe</td>\n",
              "      <td>Mountain</td>\n",
              "    </tr>\n",
              "    <tr>\n",
              "      <th>...</th>\n",
              "      <td>...</td>\n",
              "      <td>...</td>\n",
              "      <td>...</td>\n",
              "      <td>...</td>\n",
              "      <td>...</td>\n",
              "      <td>...</td>\n",
              "      <td>...</td>\n",
              "      <td>...</td>\n",
              "      <td>...</td>\n",
              "      <td>...</td>\n",
              "      <td>...</td>\n",
              "      <td>...</td>\n",
              "      <td>...</td>\n",
              "      <td>...</td>\n",
              "      <td>...</td>\n",
              "      <td>...</td>\n",
              "      <td>...</td>\n",
              "      <td>...</td>\n",
              "      <td>...</td>\n",
              "      <td>...</td>\n",
              "      <td>...</td>\n",
              "    </tr>\n",
              "    <tr>\n",
              "      <th>12136</th>\n",
              "      <td>12136</td>\n",
              "      <td>5afb26108f80884aaad9f652</td>\n",
              "      <td>3882.088056</td>\n",
              "      <td>guenter</td>\n",
              "      <td>2013-09-14 10:33:16</td>\n",
              "      <td>1603.135742</td>\n",
              "      <td>{'min': {'type': 'Point', 'coordinates': [15.5...</td>\n",
              "      <td>672.730664</td>\n",
              "      <td>0.049838</td>\n",
              "      <td>2013-09-14 12:53:09</td>\n",
              "      <td>...</td>\n",
              "      <td>&lt;?xml version=\"1.0\" encoding=\"UTF-8\"?&gt;\\n&lt;gpx x...</td>\n",
              "      <td>T3 - Difficult Mountain hike</td>\n",
              "      <td>936.461426</td>\n",
              "      <td>http://www.hikr.org/tour/post70727.html</td>\n",
              "      <td>7.498242</td>\n",
              "      <td>Hohes Waxenegg</td>\n",
              "      <td>3882.088056</td>\n",
              "      <td>Austria</td>\n",
              "      <td>Europe</td>\n",
              "      <td>Mountain</td>\n",
              "    </tr>\n",
              "    <tr>\n",
              "      <th>12137</th>\n",
              "      <td>12137</td>\n",
              "      <td>5afb26108f80884aaad9f653</td>\n",
              "      <td>13144.015870</td>\n",
              "      <td>Bergfritz</td>\n",
              "      <td>2013-09-14 05:29:24</td>\n",
              "      <td>1664.660000</td>\n",
              "      <td>{'min': {'type': 'Point', 'coordinates': [15.2...</td>\n",
              "      <td>928.770000</td>\n",
              "      <td>0.169676</td>\n",
              "      <td>2013-09-14 09:57:36</td>\n",
              "      <td>...</td>\n",
              "      <td>&lt;?xml version=\"1.0\" encoding=\"UTF-8\"?&gt;\\n&lt;gpx x...</td>\n",
              "      <td>T2 - Mountain hike</td>\n",
              "      <td>826.870000</td>\n",
              "      <td>http://www.hikr.org/tour/post70731.html</td>\n",
              "      <td>925.880000</td>\n",
              "      <td>Mugel 1630 m , Roßeck 1664 m</td>\n",
              "      <td>13144.015870</td>\n",
              "      <td>Austria</td>\n",
              "      <td>Europe</td>\n",
              "      <td>Mountain</td>\n",
              "    </tr>\n",
              "    <tr>\n",
              "      <th>12138</th>\n",
              "      <td>12138</td>\n",
              "      <td>5afb26108f80884aaad9f654</td>\n",
              "      <td>8865.050380</td>\n",
              "      <td>mountainrescue</td>\n",
              "      <td>2013-09-15 06:43:39</td>\n",
              "      <td>1658.300000</td>\n",
              "      <td>{'min': {'type': 'Point', 'coordinates': [15.2...</td>\n",
              "      <td>821.240000</td>\n",
              "      <td>0.095359</td>\n",
              "      <td>2013-09-15 09:21:43</td>\n",
              "      <td>...</td>\n",
              "      <td>&lt;?xml version=\"1.0\" encoding=\"UTF-8\"?&gt;\\n&lt;gpx x...</td>\n",
              "      <td>T1 - Valley hike</td>\n",
              "      <td>882.600000</td>\n",
              "      <td>http://www.hikr.org/tour/post70744.html</td>\n",
              "      <td>839.040000</td>\n",
              "      <td>Man soll sich nie auf die Meteofuzzis verlasse...</td>\n",
              "      <td>8865.050380</td>\n",
              "      <td>Austria</td>\n",
              "      <td>Europe</td>\n",
              "      <td>Valley</td>\n",
              "    </tr>\n",
              "    <tr>\n",
              "      <th>12139</th>\n",
              "      <td>12139</td>\n",
              "      <td>5afb26108f80884aaad9f655</td>\n",
              "      <td>17047.654835</td>\n",
              "      <td>Curi</td>\n",
              "      <td>2013-09-07 08:19:07</td>\n",
              "      <td>646.620000</td>\n",
              "      <td>{'min': {'type': 'Point', 'coordinates': [11.6...</td>\n",
              "      <td>307.855000</td>\n",
              "      <td>0.212431</td>\n",
              "      <td>2013-09-07 15:11:42</td>\n",
              "      <td>...</td>\n",
              "      <td>&lt;?xml version=\"1.0\" encoding=\"UTF-8\"?&gt;\\n&lt;gpx x...</td>\n",
              "      <td>T1 - Valley hike</td>\n",
              "      <td>425.040000</td>\n",
              "      <td>http://www.hikr.org/tour/post70500.html</td>\n",
              "      <td>289.595000</td>\n",
              "      <td>Frankenwald: Der \"Mühlenweg\"</td>\n",
              "      <td>17047.654835</td>\n",
              "      <td>Germany</td>\n",
              "      <td>Europe</td>\n",
              "      <td>Valley</td>\n",
              "    </tr>\n",
              "    <tr>\n",
              "      <th>12140</th>\n",
              "      <td>12140</td>\n",
              "      <td>5afb26108f80884aaad9f656</td>\n",
              "      <td>7208.130271</td>\n",
              "      <td>gbal</td>\n",
              "      <td>2013-09-13 06:24:13</td>\n",
              "      <td>2903.800000</td>\n",
              "      <td>{'min': {'type': 'Point', 'coordinates': [9.11...</td>\n",
              "      <td>1276.683000</td>\n",
              "      <td>0.112095</td>\n",
              "      <td>2013-09-13 14:05:42</td>\n",
              "      <td>...</td>\n",
              "      <td>&lt;?xml version=\"1.0\" encoding=\"UTF-8\"?&gt;\\n&lt;gpx x...</td>\n",
              "      <td>T6 - Difficult High-level Alpine hike</td>\n",
              "      <td>1616.590000</td>\n",
              "      <td>http://www.hikr.org/tour/post70681.html</td>\n",
              "      <td>1255.533000</td>\n",
              "      <td>Piz di Strega: due Maghi alla conquista</td>\n",
              "      <td>7208.130271</td>\n",
              "      <td>Switzerland</td>\n",
              "      <td>Europe</td>\n",
              "      <td>Alpine</td>\n",
              "    </tr>\n",
              "  </tbody>\n",
              "</table>\n",
              "<p>12141 rows × 21 columns</p>\n",
              "</div>\n",
              "      <button class=\"colab-df-convert\" onclick=\"convertToInteractive('df-652cfdc7-83aa-4306-be73-d1b8703f4d28')\"\n",
              "              title=\"Convert this dataframe to an interactive table.\"\n",
              "              style=\"display:none;\">\n",
              "        \n",
              "  <svg xmlns=\"http://www.w3.org/2000/svg\" height=\"24px\"viewBox=\"0 0 24 24\"\n",
              "       width=\"24px\">\n",
              "    <path d=\"M0 0h24v24H0V0z\" fill=\"none\"/>\n",
              "    <path d=\"M18.56 5.44l.94 2.06.94-2.06 2.06-.94-2.06-.94-.94-2.06-.94 2.06-2.06.94zm-11 1L8.5 8.5l.94-2.06 2.06-.94-2.06-.94L8.5 2.5l-.94 2.06-2.06.94zm10 10l.94 2.06.94-2.06 2.06-.94-2.06-.94-.94-2.06-.94 2.06-2.06.94z\"/><path d=\"M17.41 7.96l-1.37-1.37c-.4-.4-.92-.59-1.43-.59-.52 0-1.04.2-1.43.59L10.3 9.45l-7.72 7.72c-.78.78-.78 2.05 0 2.83L4 21.41c.39.39.9.59 1.41.59.51 0 1.02-.2 1.41-.59l7.78-7.78 2.81-2.81c.8-.78.8-2.07 0-2.86zM5.41 20L4 18.59l7.72-7.72 1.47 1.35L5.41 20z\"/>\n",
              "  </svg>\n",
              "      </button>\n",
              "      \n",
              "  <style>\n",
              "    .colab-df-container {\n",
              "      display:flex;\n",
              "      flex-wrap:wrap;\n",
              "      gap: 12px;\n",
              "    }\n",
              "\n",
              "    .colab-df-convert {\n",
              "      background-color: #E8F0FE;\n",
              "      border: none;\n",
              "      border-radius: 50%;\n",
              "      cursor: pointer;\n",
              "      display: none;\n",
              "      fill: #1967D2;\n",
              "      height: 32px;\n",
              "      padding: 0 0 0 0;\n",
              "      width: 32px;\n",
              "    }\n",
              "\n",
              "    .colab-df-convert:hover {\n",
              "      background-color: #E2EBFA;\n",
              "      box-shadow: 0px 1px 2px rgba(60, 64, 67, 0.3), 0px 1px 3px 1px rgba(60, 64, 67, 0.15);\n",
              "      fill: #174EA6;\n",
              "    }\n",
              "\n",
              "    [theme=dark] .colab-df-convert {\n",
              "      background-color: #3B4455;\n",
              "      fill: #D2E3FC;\n",
              "    }\n",
              "\n",
              "    [theme=dark] .colab-df-convert:hover {\n",
              "      background-color: #434B5C;\n",
              "      box-shadow: 0px 1px 3px 1px rgba(0, 0, 0, 0.15);\n",
              "      filter: drop-shadow(0px 1px 2px rgba(0, 0, 0, 0.3));\n",
              "      fill: #FFFFFF;\n",
              "    }\n",
              "  </style>\n",
              "\n",
              "      <script>\n",
              "        const buttonEl =\n",
              "          document.querySelector('#df-652cfdc7-83aa-4306-be73-d1b8703f4d28 button.colab-df-convert');\n",
              "        buttonEl.style.display =\n",
              "          google.colab.kernel.accessAllowed ? 'block' : 'none';\n",
              "\n",
              "        async function convertToInteractive(key) {\n",
              "          const element = document.querySelector('#df-652cfdc7-83aa-4306-be73-d1b8703f4d28');\n",
              "          const dataTable =\n",
              "            await google.colab.kernel.invokeFunction('convertToInteractive',\n",
              "                                                     [key], {});\n",
              "          if (!dataTable) return;\n",
              "\n",
              "          const docLinkHtml = 'Like what you see? Visit the ' +\n",
              "            '<a target=\"_blank\" href=https://colab.research.google.com/notebooks/data_table.ipynb>data table notebook</a>'\n",
              "            + ' to learn more about interactive tables.';\n",
              "          element.innerHTML = '';\n",
              "          dataTable['output_type'] = 'display_data';\n",
              "          await google.colab.output.renderOutput(dataTable, element);\n",
              "          const docLink = document.createElement('div');\n",
              "          docLink.innerHTML = docLinkHtml;\n",
              "          element.appendChild(docLink);\n",
              "        }\n",
              "      </script>\n",
              "    </div>\n",
              "  </div>\n",
              "  "
            ]
          },
          "metadata": {},
          "execution_count": 396
        }
      ]
    },
    {
      "cell_type": "markdown",
      "source": [
        "## Difficulty"
      ],
      "metadata": {
        "id": "gnU1M2F7PGA7"
      }
    },
    {
      "cell_type": "code",
      "source": [
        "df.difficulty.unique()"
      ],
      "metadata": {
        "colab": {
          "base_uri": "https://localhost:8080/"
        },
        "id": "hg4CCGaPOgen",
        "outputId": "c8c114f6-2581-4ae8-975d-983f75bc21d0"
      },
      "execution_count": 397,
      "outputs": [
        {
          "output_type": "execute_result",
          "data": {
            "text/plain": [
              "array(['T2 - Mountain hike', 'T3 - Difficult Mountain hike',\n",
              "       'T1 - Valley hike', 'T3+ - Difficult Mountain hike',\n",
              "       'T4- - High-level Alpine hike', 'T4 - High-level Alpine hike',\n",
              "       'T5- - Challenging High-level Alpine hike',\n",
              "       'T5+ - Challenging High-level Alpine hike',\n",
              "       'T4+ - High-level Alpine hike',\n",
              "       'T6 - Difficult High-level Alpine hike',\n",
              "       'T5 - Challenging High-level Alpine hike',\n",
              "       'T6- - Difficult High-level Alpine hike',\n",
              "       'T6+ - Difficult High-level Alpine hike'], dtype=object)"
            ]
          },
          "metadata": {},
          "execution_count": 397
        }
      ]
    },
    {
      "cell_type": "code",
      "source": [
        "#1-6\n",
        "var_to_encode = 'difficulty'\n",
        "rank_dict = {'T1 - Valley hike': 1, \n",
        "             'T2 - Mountain hike': 2, \n",
        "             'T3 - Difficult Mountain hike': 3,\n",
        "             'T3+ - Difficult Mountain hike': 3, \n",
        "             'T4- - High-level Alpine hike': 4,\n",
        "             'T4 - High-level Alpine hike': 4, \n",
        "             'T5- - Challenging High-level Alpine hike': 5,\n",
        "             'T5 - Challenging High-level Alpine hike': 5, \n",
        "             'T5+ - Challenging High-level Alpine hike': 5,\n",
        "             'T6- - Difficult High-level Alpine hike': 6, \n",
        "             'T6 - Difficult High-level Alpine hike':6,\n",
        "             'T6+ - Difficult High-level Alpine hike': 6}\n",
        "df[var_to_encode] = df[var_to_encode].map(rank_dict)"
      ],
      "metadata": {
        "id": "bLTiude2PViY"
      },
      "execution_count": 398,
      "outputs": []
    },
    {
      "cell_type": "code",
      "source": [
        "df.length_3d.sort_values()"
      ],
      "metadata": {
        "colab": {
          "base_uri": "https://localhost:8080/"
        },
        "id": "GPxmIpjnegbv",
        "outputId": "02df06e7-b8ae-455a-c321-369412140fc2"
      },
      "execution_count": 399,
      "outputs": [
        {
          "output_type": "execute_result",
          "data": {
            "text/plain": [
              "1975     0.000000e+00\n",
              "2421     0.000000e+00\n",
              "3786     0.000000e+00\n",
              "1744     0.000000e+00\n",
              "6714     0.000000e+00\n",
              "             ...     \n",
              "9535     2.269078e+05\n",
              "10094    2.852657e+05\n",
              "388      4.223042e+05\n",
              "3120     3.189180e+07\n",
              "7017     3.189180e+07\n",
              "Name: length_3d, Length: 12141, dtype: float64"
            ]
          },
          "metadata": {},
          "execution_count": 399
        }
      ]
    },
    {
      "cell_type": "code",
      "source": [
        "df.length_3d = df.length_3d/1000"
      ],
      "metadata": {
        "id": "mlwaTInATO4w"
      },
      "execution_count": 400,
      "outputs": []
    },
    {
      "cell_type": "code",
      "source": [
        "df[['length_3d', 'moving_time']].head()"
      ],
      "metadata": {
        "colab": {
          "base_uri": "https://localhost:8080/",
          "height": 206
        },
        "id": "cSC6zifZWkDq",
        "outputId": "3d6306fc-229e-40cb-f815-870e09210105"
      },
      "execution_count": 401,
      "outputs": [
        {
          "output_type": "execute_result",
          "data": {
            "text/plain": [
              "   length_3d  moving_time\n",
              "0  10.832953     0.140683\n",
              "1  12.259376     0.160602\n",
              "2  22.980168     0.335313\n",
              "3  24.903503     0.309329\n",
              "4  19.581274     0.210613"
            ],
            "text/html": [
              "\n",
              "  <div id=\"df-6e6423a5-03cb-4d15-ac01-d0a9a1998e9e\">\n",
              "    <div class=\"colab-df-container\">\n",
              "      <div>\n",
              "<style scoped>\n",
              "    .dataframe tbody tr th:only-of-type {\n",
              "        vertical-align: middle;\n",
              "    }\n",
              "\n",
              "    .dataframe tbody tr th {\n",
              "        vertical-align: top;\n",
              "    }\n",
              "\n",
              "    .dataframe thead th {\n",
              "        text-align: right;\n",
              "    }\n",
              "</style>\n",
              "<table border=\"1\" class=\"dataframe\">\n",
              "  <thead>\n",
              "    <tr style=\"text-align: right;\">\n",
              "      <th></th>\n",
              "      <th>length_3d</th>\n",
              "      <th>moving_time</th>\n",
              "    </tr>\n",
              "  </thead>\n",
              "  <tbody>\n",
              "    <tr>\n",
              "      <th>0</th>\n",
              "      <td>10.832953</td>\n",
              "      <td>0.140683</td>\n",
              "    </tr>\n",
              "    <tr>\n",
              "      <th>1</th>\n",
              "      <td>12.259376</td>\n",
              "      <td>0.160602</td>\n",
              "    </tr>\n",
              "    <tr>\n",
              "      <th>2</th>\n",
              "      <td>22.980168</td>\n",
              "      <td>0.335313</td>\n",
              "    </tr>\n",
              "    <tr>\n",
              "      <th>3</th>\n",
              "      <td>24.903503</td>\n",
              "      <td>0.309329</td>\n",
              "    </tr>\n",
              "    <tr>\n",
              "      <th>4</th>\n",
              "      <td>19.581274</td>\n",
              "      <td>0.210613</td>\n",
              "    </tr>\n",
              "  </tbody>\n",
              "</table>\n",
              "</div>\n",
              "      <button class=\"colab-df-convert\" onclick=\"convertToInteractive('df-6e6423a5-03cb-4d15-ac01-d0a9a1998e9e')\"\n",
              "              title=\"Convert this dataframe to an interactive table.\"\n",
              "              style=\"display:none;\">\n",
              "        \n",
              "  <svg xmlns=\"http://www.w3.org/2000/svg\" height=\"24px\"viewBox=\"0 0 24 24\"\n",
              "       width=\"24px\">\n",
              "    <path d=\"M0 0h24v24H0V0z\" fill=\"none\"/>\n",
              "    <path d=\"M18.56 5.44l.94 2.06.94-2.06 2.06-.94-2.06-.94-.94-2.06-.94 2.06-2.06.94zm-11 1L8.5 8.5l.94-2.06 2.06-.94-2.06-.94L8.5 2.5l-.94 2.06-2.06.94zm10 10l.94 2.06.94-2.06 2.06-.94-2.06-.94-.94-2.06-.94 2.06-2.06.94z\"/><path d=\"M17.41 7.96l-1.37-1.37c-.4-.4-.92-.59-1.43-.59-.52 0-1.04.2-1.43.59L10.3 9.45l-7.72 7.72c-.78.78-.78 2.05 0 2.83L4 21.41c.39.39.9.59 1.41.59.51 0 1.02-.2 1.41-.59l7.78-7.78 2.81-2.81c.8-.78.8-2.07 0-2.86zM5.41 20L4 18.59l7.72-7.72 1.47 1.35L5.41 20z\"/>\n",
              "  </svg>\n",
              "      </button>\n",
              "      \n",
              "  <style>\n",
              "    .colab-df-container {\n",
              "      display:flex;\n",
              "      flex-wrap:wrap;\n",
              "      gap: 12px;\n",
              "    }\n",
              "\n",
              "    .colab-df-convert {\n",
              "      background-color: #E8F0FE;\n",
              "      border: none;\n",
              "      border-radius: 50%;\n",
              "      cursor: pointer;\n",
              "      display: none;\n",
              "      fill: #1967D2;\n",
              "      height: 32px;\n",
              "      padding: 0 0 0 0;\n",
              "      width: 32px;\n",
              "    }\n",
              "\n",
              "    .colab-df-convert:hover {\n",
              "      background-color: #E2EBFA;\n",
              "      box-shadow: 0px 1px 2px rgba(60, 64, 67, 0.3), 0px 1px 3px 1px rgba(60, 64, 67, 0.15);\n",
              "      fill: #174EA6;\n",
              "    }\n",
              "\n",
              "    [theme=dark] .colab-df-convert {\n",
              "      background-color: #3B4455;\n",
              "      fill: #D2E3FC;\n",
              "    }\n",
              "\n",
              "    [theme=dark] .colab-df-convert:hover {\n",
              "      background-color: #434B5C;\n",
              "      box-shadow: 0px 1px 3px 1px rgba(0, 0, 0, 0.15);\n",
              "      filter: drop-shadow(0px 1px 2px rgba(0, 0, 0, 0.3));\n",
              "      fill: #FFFFFF;\n",
              "    }\n",
              "  </style>\n",
              "\n",
              "      <script>\n",
              "        const buttonEl =\n",
              "          document.querySelector('#df-6e6423a5-03cb-4d15-ac01-d0a9a1998e9e button.colab-df-convert');\n",
              "        buttonEl.style.display =\n",
              "          google.colab.kernel.accessAllowed ? 'block' : 'none';\n",
              "\n",
              "        async function convertToInteractive(key) {\n",
              "          const element = document.querySelector('#df-6e6423a5-03cb-4d15-ac01-d0a9a1998e9e');\n",
              "          const dataTable =\n",
              "            await google.colab.kernel.invokeFunction('convertToInteractive',\n",
              "                                                     [key], {});\n",
              "          if (!dataTable) return;\n",
              "\n",
              "          const docLinkHtml = 'Like what you see? Visit the ' +\n",
              "            '<a target=\"_blank\" href=https://colab.research.google.com/notebooks/data_table.ipynb>data table notebook</a>'\n",
              "            + ' to learn more about interactive tables.';\n",
              "          element.innerHTML = '';\n",
              "          dataTable['output_type'] = 'display_data';\n",
              "          await google.colab.output.renderOutput(dataTable, element);\n",
              "          const docLink = document.createElement('div');\n",
              "          docLink.innerHTML = docLinkHtml;\n",
              "          element.appendChild(docLink);\n",
              "        }\n",
              "      </script>\n",
              "    </div>\n",
              "  </div>\n",
              "  "
            ]
          },
          "metadata": {},
          "execution_count": 401
        }
      ]
    },
    {
      "cell_type": "markdown",
      "source": [
        "length_3d is in km\n",
        "\n",
        "\n",
        "moving_time is in days"
      ],
      "metadata": {
        "id": "RuOkmObiUPMv"
      }
    },
    {
      "cell_type": "code",
      "source": [
        "df.km_per_day = df.length_3d/df.moving_time"
      ],
      "metadata": {
        "colab": {
          "base_uri": "https://localhost:8080/"
        },
        "id": "SHO16iPAPbpU",
        "outputId": "ad3a5bd3-0065-43c3-a579-6da2a99ed5a5"
      },
      "execution_count": 402,
      "outputs": [
        {
          "output_type": "stream",
          "name": "stderr",
          "text": [
            "/usr/local/lib/python3.7/dist-packages/ipykernel_launcher.py:1: UserWarning: Pandas doesn't allow columns to be created via a new attribute name - see https://pandas.pydata.org/pandas-docs/stable/indexing.html#attribute-access\n",
            "  \"\"\"Entry point for launching an IPython kernel.\n"
          ]
        }
      ]
    },
    {
      "cell_type": "code",
      "source": [
        "df.km_per_day"
      ],
      "metadata": {
        "colab": {
          "base_uri": "https://localhost:8080/"
        },
        "id": "_n0ZWNpgeSJK",
        "outputId": "6e81fed2-8d39-4f7a-f892-3e0710d01dd4"
      },
      "execution_count": 403,
      "outputs": [
        {
          "output_type": "execute_result",
          "data": {
            "text/plain": [
              "0        77.002644\n",
              "1        76.333966\n",
              "2        68.533586\n",
              "3        80.508220\n",
              "4        92.972581\n",
              "           ...    \n",
              "12136    77.894196\n",
              "12137    77.465414\n",
              "12138    92.965209\n",
              "12139    80.250484\n",
              "12140    64.303816\n",
              "Length: 12141, dtype: float64"
            ]
          },
          "metadata": {},
          "execution_count": 403
        }
      ]
    },
    {
      "cell_type": "markdown",
      "source": [
        "### Drop columns"
      ],
      "metadata": {
        "id": "GeS53AO8cco1"
      }
    },
    {
      "cell_type": "code",
      "source": [
        "to_drop = ['Unnamed: 0',\n",
        "           '_id', \n",
        "           'user', \n",
        "           'start_time', \n",
        "           'end_time', \n",
        "           'url',\n",
        "           'bounds', \n",
        "           'max_speed',\n",
        "           'gpx', \n",
        "           'name', \n",
        "           'length_2d']\n",
        "df = df.drop(columns=to_drop)"
      ],
      "metadata": {
        "id": "_c2HgT02ce6p"
      },
      "execution_count": 404,
      "outputs": []
    },
    {
      "cell_type": "markdown",
      "source": [
        "to add to the sheelon:\n",
        "- uphill\n",
        "- max_elevation\n",
        "- min_level\n",
        "- downhill"
      ],
      "metadata": {
        "id": "G0qcY5Wpkkts"
      }
    },
    {
      "cell_type": "markdown",
      "source": [
        "### Continent/Country"
      ],
      "metadata": {
        "id": "9Ab7uYNkPfGZ"
      }
    },
    {
      "cell_type": "code",
      "source": [
        "df = df[df['continent'].notna()]"
      ],
      "metadata": {
        "id": "KWNVcL2CbU9S"
      },
      "execution_count": 405,
      "outputs": []
    },
    {
      "cell_type": "markdown",
      "source": [
        "Feature scaling"
      ],
      "metadata": {
        "id": "XShHlbQdlWaR"
      }
    },
    {
      "cell_type": "code",
      "source": [
        "df.columns"
      ],
      "metadata": {
        "colab": {
          "base_uri": "https://localhost:8080/"
        },
        "id": "uldDvDSCoHcf",
        "outputId": "79ce2e73-007d-4eea-88c8-49a363b71eb7"
      },
      "execution_count": 406,
      "outputs": [
        {
          "output_type": "execute_result",
          "data": {
            "text/plain": [
              "Index(['length_3d', 'max_elevation', 'uphill', 'moving_time', 'difficulty',\n",
              "       'min_elevation', 'downhill', 'country', 'continent',\n",
              "       'Hiking Environment'],\n",
              "      dtype='object')"
            ]
          },
          "metadata": {},
          "execution_count": 406
        }
      ]
    },
    {
      "cell_type": "code",
      "source": [
        "df.describe().loc[['mean', 'std']].to_csv('normalization_params.csv')"
      ],
      "metadata": {
        "id": "7ydqa9bToqud"
      },
      "execution_count": 416,
      "outputs": []
    },
    {
      "cell_type": "code",
      "source": [
        "df_dr = df.drop(columns=['continent', 'country', 'Hiking Environment'])\n",
        "normalized_df=(df_dr-df_dr.mean())/df_dr.std()\n",
        "df = pd.concat([normalized_df, df[['continent', 'country', 'Hiking Environment']]], axis=1)"
      ],
      "metadata": {
        "id": "KtTwVHtkltFE"
      },
      "execution_count": 418,
      "outputs": []
    },
    {
      "cell_type": "markdown",
      "source": [
        "One hot encoding"
      ],
      "metadata": {
        "id": "op-O4qQMbiWQ"
      }
    },
    {
      "cell_type": "code",
      "source": [
        "df.columns"
      ],
      "metadata": {
        "colab": {
          "base_uri": "https://localhost:8080/"
        },
        "id": "kX0vV8nrctWE",
        "outputId": "3773db19-bef6-4a49-c0ce-330d0e13bc4c"
      },
      "execution_count": 422,
      "outputs": [
        {
          "output_type": "execute_result",
          "data": {
            "text/plain": [
              "Index(['length_3d', 'max_elevation', 'uphill', 'moving_time', 'difficulty',\n",
              "       'min_elevation', 'downhill', 'continent', 'country',\n",
              "       'Hiking Environment'],\n",
              "      dtype='object')"
            ]
          },
          "metadata": {},
          "execution_count": 422
        }
      ]
    },
    {
      "cell_type": "code",
      "source": [
        "df = pd.get_dummies(df, columns=['country', 'continent', 'Hiking Environment'])"
      ],
      "metadata": {
        "id": "mzD1O6rSbj5R"
      },
      "execution_count": 423,
      "outputs": []
    },
    {
      "cell_type": "code",
      "source": [
        "df.columns"
      ],
      "metadata": {
        "colab": {
          "base_uri": "https://localhost:8080/"
        },
        "id": "afkiPVQRnj-u",
        "outputId": "18f49039-4cce-43d6-ba35-7b6d4f3c26f2"
      },
      "execution_count": 424,
      "outputs": [
        {
          "output_type": "execute_result",
          "data": {
            "text/plain": [
              "Index(['length_3d', 'max_elevation', 'uphill', 'moving_time', 'difficulty',\n",
              "       'min_elevation', 'downhill', 'country_Albania', 'country_Andorra',\n",
              "       'country_Argentina', 'country_Armenia', 'country_Austria',\n",
              "       'country_Belgium', 'country_Bosnia and Herzegovina', 'country_Bulgaria',\n",
              "       'country_Canada', 'country_Chile', 'country_China',\n",
              "       'country_Costa Rica', 'country_Croatia', 'country_Czechia',\n",
              "       'country_Ecuador', 'country_Falkland Islands', 'country_Faroe Islands',\n",
              "       'country_France', 'country_Georgia', 'country_Germany',\n",
              "       'country_Greece', 'country_Greenland', 'country_Hungary',\n",
              "       'country_Iceland', 'country_India', 'country_Iran', 'country_Ireland',\n",
              "       'country_Israel', 'country_Italy', 'country_Japan',\n",
              "       'country_Liechtenstein', 'country_Malta', 'country_Montenegro',\n",
              "       'country_Morocco', 'country_Namibia', 'country_Nepal',\n",
              "       'country_Netherlands', 'country_New Zealand', 'country_North Macedonia',\n",
              "       'country_Norway', 'country_Peru', 'country_Poland', 'country_Portugal',\n",
              "       'country_Romania', 'country_Russia', 'country_San Marino',\n",
              "       'country_Serbia', 'country_Slovakia', 'country_Slovenia',\n",
              "       'country_Spain', 'country_Sweden', 'country_Switzerland',\n",
              "       'country_Tajikistan', 'country_Tanzania', 'country_Thailand',\n",
              "       'country_Turkey', 'country_Turkmenistan', 'country_United Kingdom',\n",
              "       'country_United States', 'continent_Africa', 'continent_Asia',\n",
              "       'continent_Europe', 'continent_North America', 'continent_Oceania',\n",
              "       'continent_South America', 'Hiking Environment_Alpine',\n",
              "       'Hiking Environment_Mountain', 'Hiking Environment_Valley'],\n",
              "      dtype='object')"
            ]
          },
          "metadata": {},
          "execution_count": 424
        }
      ]
    },
    {
      "cell_type": "markdown",
      "source": [
        "End of preprocessing"
      ],
      "metadata": {
        "id": "I4mPqRlJpztQ"
      }
    }
  ]
}